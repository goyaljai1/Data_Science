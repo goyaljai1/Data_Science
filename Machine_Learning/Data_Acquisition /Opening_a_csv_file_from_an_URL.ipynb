{
  "nbformat": 4,
  "nbformat_minor": 0,
  "metadata": {
    "colab": {
      "provenance": [],
      "authorship_tag": "ABX9TyO/toxxqm8CuJELDqGSG+O0",
      "include_colab_link": true
    },
    "kernelspec": {
      "name": "python3",
      "display_name": "Python 3"
    },
    "language_info": {
      "name": "python"
    }
  },
  "cells": [
    {
      "cell_type": "markdown",
      "metadata": {
        "id": "view-in-github",
        "colab_type": "text"
      },
      "source": [
        "<a href=\"https://colab.research.google.com/github/goyaljai1/Data_Science/blob/main/Machine_Learning/Data_Acquisition%20/Opening_a_csv_file_from_an_URL.ipynb\" target=\"_parent\"><img src=\"https://colab.research.google.com/assets/colab-badge.svg\" alt=\"Open In Colab\"/></a>"
      ]
    },
    {
      "cell_type": "markdown",
      "source": [
        "# **Opening a csv file from an URL**"
      ],
      "metadata": {
        "id": "Ju441RsOnDXA"
      }
    },
    {
      "cell_type": "code",
      "execution_count": 1,
      "metadata": {
        "id": "m4ST4HWgmsXY"
      },
      "outputs": [],
      "source": [
        "import pandas as pd\n",
        "import numpy as np"
      ]
    },
    {
      "cell_type": "code",
      "source": [
        "import requests\n",
        "from io import StringIO\n",
        "\n",
        "url = \"https://raw.githubusercontent.com/cs109/2014_data/master/countries.csv\"\n",
        "headers = {\"User-Agent\": \"Mozilla/5.0 (Macintosh; Intel Mac OS X 10.14; rv:66.0) Gecko/20100101 Firefox/66.0\"}\n",
        "req = requests.get(url, headers=headers)\n",
        "data = StringIO(req.text)\n",
        "\n",
        "pd.read_csv(data)\n",
        "\n",
        "#Copy paste the code and accoringly change the url"
      ],
      "metadata": {
        "id": "qh8Xe1qYnKEb"
      },
      "execution_count": null,
      "outputs": []
    },
    {
      "cell_type": "markdown",
      "source": [
        "**Skiprows/nrows Parameter**\n",
        "\n",
        "Skiprows: Skip the rows selected\n",
        "\n",
        "nrows: selects the given particular number of rows"
      ],
      "metadata": {
        "id": "mq77Abrqn1uM"
      }
    },
    {
      "cell_type": "code",
      "source": [
        "pd.read_csv('aug_train.csv',nrows=100) #Selects the top 100 number of rows, range can also be given as an input"
      ],
      "metadata": {
        "id": "xpYc1xyfn4t2"
      },
      "execution_count": null,
      "outputs": []
    },
    {
      "cell_type": "markdown",
      "source": [
        "**Encoding Parameters**: Sometimes the csv data is decoded in different format which needs to be encoded accordingly"
      ],
      "metadata": {
        "id": "JRObwSV5oAhh"
      }
    },
    {
      "cell_type": "code",
      "source": [
        "pd.read_csv('zomato.csv',encoding='latin-1')"
      ],
      "metadata": {
        "id": "DcfgVw3en-7f"
      },
      "execution_count": null,
      "outputs": []
    },
    {
      "cell_type": "markdown",
      "source": [
        " **Skip Bad Lines**: If number of entries(columns) in any row is more than the common columns, it refers to bad lines error"
      ],
      "metadata": {
        "id": "lHG3KeaToNWL"
      }
    },
    {
      "cell_type": "code",
      "source": [
        "pd.read_csv('BX-Books.csv', sep=';', encoding=\"latin-1\",error_bad_lines=False)"
      ],
      "metadata": {
        "id": "IvhMhELYoLnf"
      },
      "execution_count": null,
      "outputs": []
    },
    {
      "cell_type": "markdown",
      "source": [
        " **Loading a Huge Datasets in Chunk**: Sometimes the size of the data is surprizingly large. Hence the data needs to be converted into the chunks of smaller sizes for efficient processing"
      ],
      "metadata": {
        "id": "2dCxTbPjobaK"
      }
    },
    {
      "cell_type": "code",
      "source": [
        "dfs = pd.read_csv('aug_train.csv',chunksize=5000)\n",
        "for chunks in dfs:\n",
        "    print(chunk.shape)"
      ],
      "metadata": {
        "id": "PlyR6tJ1oXrb"
      },
      "execution_count": null,
      "outputs": []
    }
  ]
}